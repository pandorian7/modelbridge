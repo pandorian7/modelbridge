{
 "cells": [
  {
   "cell_type": "code",
   "execution_count": 1,
   "metadata": {},
   "outputs": [],
   "source": [
    "import ollama"
   ]
  },
  {
   "cell_type": "code",
   "execution_count": 41,
   "metadata": {},
   "outputs": [],
   "source": [
    "task = '''\n",
    "1. if you are asked to classify extension. you will be given a list of catagories and a list of extensions you should provide suitable folders only from the given folder for each extension given extensions list output as json {{string:string}} key is the extension, value is the folder name\n",
    "2. if you are asked to generate folder names for given list of extension give suitable fairly common folder names for file extensions output shoud be json same as previous task output\n",
    "\n",
    "other data:\n",
    "instalables and executables are Applicatoins\n",
    "'''\n",
    "\n",
    "response = ollama.generate(model='mistral', prompt=task, system='output in josn')"
   ]
  },
  {
   "cell_type": "code",
   "execution_count": 8,
   "metadata": {},
   "outputs": [],
   "source": [
    "import json\n",
    "with open('context_test.json', 'w') as file:\n",
    "    json.dump(response['context'], file)"
   ]
  },
  {
   "cell_type": "code",
   "execution_count": 24,
   "metadata": {},
   "outputs": [],
   "source": [
    "def get_propmt(task, **kwargs):\n",
    "    string = f\"task: {task}\\n\"\n",
    "    for key, val in kwargs.items():\n",
    "        string += f\"{key}: {str(val)}\\n\"\n",
    "    return string"
   ]
  },
  {
   "cell_type": "code",
   "execution_count": 29,
   "metadata": {},
   "outputs": [],
   "source": [
    "def mistral_json(context, task, task_data):\n",
    "    return json.loads(ollama.generate(model='mistral', context=context, prompt=get_propmt(task, **task_data), format='json')['response'])"
   ]
  },
  {
   "cell_type": "code",
   "execution_count": null,
   "metadata": {},
   "outputs": [],
   "source": [
    "res1 = ollama.generate(model='mistral', context=response['context'], prompt='classify extensions, folder names: [\"Audio\", \"Video\", \"Other\"], extensions: [\"mp3\", \"mp4\", \"mkv\", \"exe\"]', format='json')\n",
    "res1"
   ]
  },
  {
   "cell_type": "code",
   "execution_count": 34,
   "metadata": {},
   "outputs": [
    {
     "data": {
      "text/plain": [
       "{'mp3': 'Audio',\n",
       " 'mp4': 'Video',\n",
       " 'mkv': 'Video',\n",
       " 'exe': 'Applications',\n",
       " 'appx': 'Applications',\n",
       " 'msi': 'Applications'}"
      ]
     },
     "execution_count": 34,
     "metadata": {},
     "output_type": "execute_result"
    }
   ],
   "source": [
    "mistral_json(response['context'], \"classify extensions\", {'extensions':[\"mp3\", \"mp4\", \"mkv\", \"exe\", \"appx\", \"msi\"], 'folder names': [\"Audio\", \"Video\", \"Other\"]})"
   ]
  },
  {
   "cell_type": "code",
   "execution_count": 43,
   "metadata": {},
   "outputs": [
    {
     "data": {
      "text/plain": [
       "{'mp3': 'Music',\n",
       " 'mp4': 'Videos',\n",
       " 'mkv': 'Videos',\n",
       " 'exe': 'Applications',\n",
       " 'appx': 'Applications',\n",
       " 'msi': 'Applications'}"
      ]
     },
     "execution_count": 43,
     "metadata": {},
     "output_type": "execute_result"
    }
   ],
   "source": [
    "mistral_json(response['context'], \"generate folder names\", {'extensions':[\"mp3\", \"mp4\", \"mkv\", \"exe\", \"appx\", \"msi\", \"docx\"]})"
   ]
  },
  {
   "cell_type": "code",
   "execution_count": 42,
   "metadata": {},
   "outputs": [
    {
     "data": {
      "text/plain": [
       "627"
      ]
     },
     "execution_count": 42,
     "metadata": {},
     "output_type": "execute_result"
    }
   ],
   "source": [
    "len(response['context'])"
   ]
  }
 ],
 "metadata": {
  "kernelspec": {
   "display_name": "Python 3",
   "language": "python",
   "name": "python3"
  },
  "language_info": {
   "codemirror_mode": {
    "name": "ipython",
    "version": 3
   },
   "file_extension": ".py",
   "mimetype": "text/x-python",
   "name": "python",
   "nbconvert_exporter": "python",
   "pygments_lexer": "ipython3",
   "version": "3.12.4"
  }
 },
 "nbformat": 4,
 "nbformat_minor": 2
}
